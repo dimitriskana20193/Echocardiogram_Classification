{
 "cells": [
  {
   "cell_type": "code",
   "execution_count": 61,
   "metadata": {},
   "outputs": [],
   "source": [
    "import pandas as pd \n",
    "import numpy as np \n",
    "def RMSE(x_pred,x_true):\n",
    "   return np.sqrt(np.mean((x_true - x_pred)**2))\n",
    "def confusion_matrix(y_true, y_pred):\n",
    "    classes = np.unique(y_true)\n",
    "    n_classes = len(classes)\n",
    "    conf_matrix = np.zeros((n_classes, n_classes), dtype=int)\n",
    "\n",
    "    for i in range(len(y_true)):\n",
    "        true_class = y_true[i]\n",
    "        pred_class = y_pred[i]\n",
    "        conf_matrix[true_class][pred_class] += 1\n",
    "        \n",
    "    return conf_matrix\n",
    "def accuracy(y_pred, y_true):\n",
    "    return np.mean(y_true == y_pred)\n",
    "\n",
    "\"\"\"\"Epss : Large number -> abnormal\n",
    "Lvdd: Large hearts tend to be sick hearts\n",
    "Wall_Motion_index: should be around 12-13 \"\"\"\n",
    "\n",
    "col_names = ['Months_Survived','Still_Alive','Age_o_HA',\n",
    "'Effusion','Fractional_Short','Epss',\n",
    "'Lvdd','Wall_MotionSc','Wallmotion_index','Mult',\n",
    "'Name','Group','Alive_at_1']\n",
    "p = pd.read_csv('/home/dimitriskana/workspace/Echocardiogram/echocardiogram.data',  on_bad_lines= 'skip', names = col_names)\n",
    "Data = p.drop(['Wall_MotionSc','Name','Group','Mult'],axis=1)\n",
    "Data[Data =='?' ] = np.nan\n",
    "Data = Data.astype(float)"
   ]
  },
  {
   "attachments": {},
   "cell_type": "markdown",
   "metadata": {},
   "source": [
    "Here we need to clear the data. \n",
    "The data contains lot of ? values that I translated to nans for better use. \n",
    "I cleaned the data using the Still_Alive and Months_Survived columns,\n",
    "while using hints from the researchers,in order our target to be nan-free"
   ]
  },
  {
   "cell_type": "code",
   "execution_count": 48,
   "metadata": {},
   "outputs": [],
   "source": [
    "\n",
    "id = Data[(Data['Months_Survived']<12) & (Data['Alive_at_1']!=1)]\n",
    "#clear the nans for patients that survived less than a year, \n",
    "# in the target column I assign the still_alive value\n",
    "Data.loc[id.index,'Alive_at_1'] = Data.iloc[id.index]['Still_Alive']\n",
    "Data.loc[Data['Months_Survived']>12,'Alive_at_1'] = 1\n",
    "#check if patients that are still alive after 12 months,\n",
    "#  are labeled as alive\n",
    "Data.loc[(Data['Months_Survived']>12)&Data['Still_Alive']==1,'Alive_at_1'] = 1\n",
    "# we create a dataframe without patients that are alive less than a year\n",
    "df = Data[~((Data['Months_Survived']<12) & (Data['Alive_at_1']==1))].reset_index().drop('index',axis =1)\n",
    "#we also want to get rid some more nans for our target,\n",
    "#  we assign the value of  the Still_Alive column to our target   \n",
    "i = df[df['Alive_at_1'].isna()].index\n",
    "df.loc[i,'Alive_at_1'] = df.loc[i,'Still_Alive']\n",
    "\n",
    "\n"
   ]
  },
  {
   "attachments": {},
   "cell_type": "markdown",
   "metadata": {},
   "source": [
    "Still we have missing values in crucial attributes of a patient. \n",
    "We will try to solve that using a variety of techniques such as : \n",
    "1. dropping all the rows that contain nans\n",
    "2. calculate the values using methods I found in a paper and comparing it to an open-source library\n",
    "3. using regression to calculate the missing values\n",
    "After that we will see what worked better and decide"
   ]
  },
  {
   "cell_type": "code",
   "execution_count": 44,
   "metadata": {},
   "outputs": [
    {
     "data": {
      "text/plain": [
       "Months_Survived     1\n",
       "Still_Alive         0\n",
       "Age_o_HA            3\n",
       "Effusion            0\n",
       "Fractional_Short    3\n",
       "Epss                9\n",
       "Lvdd                4\n",
       "Wallmotion_index    0\n",
       "Alive_at_1          0\n",
       "dtype: int64"
      ]
     },
     "execution_count": 44,
     "metadata": {},
     "output_type": "execute_result"
    }
   ],
   "source": [
    "#Map of the missing values\n",
    "df.isna().sum()"
   ]
  },
  {
   "cell_type": "code",
   "execution_count": 62,
   "metadata": {},
   "outputs": [],
   "source": [
    "#droping the still alive as it is incoporated to the alive at 1 and the months_survived\n",
    "# we use standardization for the X data only for the non categorical values \n",
    "Drop_Data = df.dropna().drop('Still_Alive',axis=1)\n",
    "X = (Drop_Data.copy()*Drop_Data.mean()/Drop_Data.std()).to_numpy()\n",
    "#target\n",
    "y =Drop_Data['Alive_at_1'].to_numpy().astype('int64')"
   ]
  },
  {
   "cell_type": "code",
   "execution_count": 63,
   "metadata": {},
   "outputs": [
    {
     "data": {
      "text/plain": [
       "array([1, 1, 1, 1, 1, 1, 0, 0, 1, 1, 1, 1, 1, 1, 1, 1, 1, 1, 1, 1, 1, 1,\n",
       "       1, 1, 0, 1, 1, 1])"
      ]
     },
     "execution_count": 63,
     "metadata": {},
     "output_type": "execute_result"
    }
   ],
   "source": [
    "from sklearn.model_selection import train_test_split\n",
    "from tree import DecisionTree as DT \n",
    "from forrest import R_Forrest as R_F\n",
    "X_train, X_test, y_train, y_test = train_test_split(X, y, test_size = 0.33, random_state=1234)\n",
    "D = DT(min_samples_split=2, max_depth=200)\n",
    "D.fit(X_train,y_train)\n",
    "D.predict(X_test)"
   ]
  },
  {
   "cell_type": "code",
   "execution_count": 64,
   "metadata": {},
   "outputs": [
    {
     "name": "stdout",
     "output_type": "stream",
     "text": [
      "[[ 3  0]\n",
      " [ 0 25]]\n",
      "0.0\n"
     ]
    }
   ],
   "source": [
    "CM = confusion_matrix(D.predict(X_test),y_test)\n",
    "print(CM)\n",
    "F = RMSE(D.predict(X_test),y_test)\n",
    "print(F)"
   ]
  },
  {
   "cell_type": "code",
   "execution_count": 65,
   "metadata": {},
   "outputs": [
    {
     "data": {
      "text/plain": [
       "1.0"
      ]
     },
     "execution_count": 65,
     "metadata": {},
     "output_type": "execute_result"
    }
   ],
   "source": [
    "accuracy(D.predict(X_test),y_test)"
   ]
  },
  {
   "attachments": {},
   "cell_type": "markdown",
   "metadata": {},
   "source": [
    "conf_matrix: [[TN,FP\n",
    "               FN,TP]]"
   ]
  },
  {
   "cell_type": "code",
   "execution_count": 66,
   "metadata": {},
   "outputs": [
    {
     "name": "stdout",
     "output_type": "stream",
     "text": [
      "0.2672612419124244\n",
      "0.9285714285714286\n"
     ]
    }
   ],
   "source": [
    "Forest = R_F(min_samples_split= 2, max_depth=200,n_trees=2)\n",
    "Forest.fit(X_train,y_train)\n",
    "XX = Forest.predict(X_test)\n",
    "print(RMSE(XX,y_test))\n",
    "print(accuracy(XX,y_test))\n",
    "#print(confusion_matrix(XX,y_test))"
   ]
  },
  {
   "attachments": {},
   "cell_type": "markdown",
   "metadata": {},
   "source": [
    "Now we replace the nans with their respective median  "
   ]
  },
  {
   "cell_type": "code",
   "execution_count": 58,
   "metadata": {},
   "outputs": [
    {
     "data": {
      "text/plain": [
       "array([1, 1, 1, 1, 1, 1, 0, 1, 1, 1, 1, 1, 1, 1, 1, 1, 1, 1, 1, 0, 1, 1,\n",
       "       1, 1, 1, 1, 1, 1, 1, 1, 1, 1, 1])"
      ]
     },
     "execution_count": 58,
     "metadata": {},
     "output_type": "execute_result"
    }
   ],
   "source": [
    "Mead_Data = df.drop('Still_Alive',axis=1)\n",
    "Mead_Data.fillna(Mead_Data.median(), inplace=True)\n",
    "Xm = (Mead_Data*Mead_Data.mean()/Mead_Data.std()).to_numpy()\n",
    "#target\n",
    "ym =Mead_Data['Alive_at_1'].to_numpy().astype('int64')\n",
    "\n",
    "X_trainm, X_testm, y_trainm, y_testm = train_test_split(X, y,\n",
    " test_size = 0.33, random_state=1234)\n",
    "D.fit(X_trainm,y_trainm)\n",
    "D.predict(X_testm)\n"
   ]
  },
  {
   "cell_type": "code",
   "execution_count": 67,
   "metadata": {},
   "outputs": [
    {
     "name": "stdout",
     "output_type": "stream",
     "text": [
      "[[ 2  0]\n",
      " [ 0 31]]\n",
      "The RMSE is :  0.0000\n",
      "The accuracy of the model is : 1.0000\n"
     ]
    }
   ],
   "source": [
    "CMm = confusion_matrix(D.predict(X_testm),y_testm)\n",
    "print(CMm)\n",
    "Fm = RMSE(D.predict(X_testm),y_testm)\n",
    "print(f'The RMSE is :  {Fm :.4f}')\n",
    "print(f'The accuracy of the model is : {accuracy(D.predict(X_testm),y_testm) :.4f}')"
   ]
  },
  {
   "cell_type": "code",
   "execution_count": 45,
   "metadata": {},
   "outputs": [
    {
     "name": "stdout",
     "output_type": "stream",
     "text": [
      "0.17407765595569785\n"
     ]
    }
   ],
   "source": [
    "Forest.fit(X_trainm,y_trainm)\n",
    "XXm = Forest.predict(X_testm)\n",
    "print(RMSE(XXm,y_testm))"
   ]
  }
 ],
 "metadata": {
  "kernelspec": {
   "display_name": "env",
   "language": "python",
   "name": "python3"
  },
  "language_info": {
   "codemirror_mode": {
    "name": "ipython",
    "version": 3
   },
   "file_extension": ".py",
   "mimetype": "text/x-python",
   "name": "python",
   "nbconvert_exporter": "python",
   "pygments_lexer": "ipython3",
   "version": "3.8.10"
  },
  "orig_nbformat": 4,
  "vscode": {
   "interpreter": {
    "hash": "683ec6e70c363dd226836d2b94f38b30e3e384eb8fd3dd5ff5ad30859dec7205"
   }
  }
 },
 "nbformat": 4,
 "nbformat_minor": 2
}
